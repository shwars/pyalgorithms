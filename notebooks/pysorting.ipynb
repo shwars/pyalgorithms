{
 "cells": [
  {
   "cell_type": "markdown",
   "id": "468b85ff",
   "metadata": {},
   "source": [
    "## Sorting Algorithms\n",
    "\n",
    "In this notebooks, we will study different ways to order a sequence of values. This process is typically called **sorting**. For simplicity, we will discuss sorting arrays of integer numbers, but this process can be easily generalized to any element types.\n",
    "\n",
    "Python library contains built-in function to sort an array:"
   ]
  },
  {
   "cell_type": "code",
   "execution_count": 1,
   "id": "2c4f7356",
   "metadata": {},
   "outputs": [
    {
     "name": "stdout",
     "output_type": "stream",
     "text": [
      "[2, 4, 6, 7, 9, 13]\n"
     ]
    }
   ],
   "source": [
    "x = [6,4,2,7,9,13]\n",
    "x.sort()\n",
    "print(x)"
   ]
  },
  {
   "cell_type": "markdown",
   "id": "377b4b05",
   "metadata": {},
   "source": [
    "In this notebook, we will discuss how this function can be implemented, i.e. the actual **algorithm** behind sorting. To make it more visual, we will import special visualization library first:"
   ]
  },
  {
   "cell_type": "code",
   "execution_count": 2,
   "id": "bcd0882f",
   "metadata": {},
   "outputs": [
    {
     "data": {
      "application/vnd.jupyter.widget-view+json": {
       "model_id": "059e6aba62f74cc89d789a8befb5b9e4",
       "version_major": 2,
       "version_minor": 0
      },
      "text/plain": [
       "HTML(value='<table border=\"1\"><tr><td width=\"25\" height=\"15\" align=\"center\">2</td><td width=\"25\" height=\"15\" a…"
      ]
     },
     "metadata": {},
     "output_type": "display_data"
    }
   ],
   "source": [
    "import pyalgovis as pyv\n",
    "\n",
    "pyv.display_array(x)"
   ]
  },
  {
   "cell_type": "markdown",
   "id": "1f3abb0b",
   "metadata": {},
   "source": [
    "### Naive sort\n",
    "\n",
    "Let's think of the most obvious sorting algorithm that comes to mind. Suppose you have a pile of cards with numbers written on them. How do you order them?\n",
    "\n",
    "To begin with, you can look for a card with a minimal value, take it out of the pile and put into on the table - it will be the first element of our result. Then we can repeat the same process, selecting the minimal value again - but since the previous card has been removed, we will get the next value, and so on.\n",
    "\n",
    "Let's implement this algorithm on lists. Because removing values from lists is costly, we will just replace them with `None`:"
   ]
  },
  {
   "cell_type": "code",
   "execution_count": 3,
   "id": "e567704d",
   "metadata": {},
   "outputs": [
    {
     "data": {
      "text/plain": [
       "[2, 4, 6, 7, 9, 13]"
      ]
     },
     "execution_count": 3,
     "metadata": {},
     "output_type": "execute_result"
    }
   ],
   "source": [
    "def naive_sort(l):\n",
    "    out = []\n",
    "    for _ in range(len(l)):\n",
    "        min_elem = 99999 # super large value\n",
    "        min_index = 0\n",
    "        for j in range(len(l)):\n",
    "            if l[j] is not None and l[j]<min_elem:\n",
    "                min_elem = l[j]\n",
    "                min_index = j\n",
    "        l[min_index] = None\n",
    "        out.append(min_elem)\n",
    "    return out\n",
    "                \n",
    "naive_sort([6,4,2,7,9,13])"
   ]
  },
  {
   "cell_type": "markdown",
   "id": "68c258b5",
   "metadata": {},
   "source": [
    "> **Note**: You may be wondering why we do not use `min` function to find the minimal element. This is because this function requires one pass through the list, and we want to use the same pass to find out the position of the element. We also want to make the algorithm explicit, relying only on list indexing - this will be useful if you need to implement sorting algorithm in any other programming languages.\n",
    "\n",
    "To make it more clear how this algorithm works, let's add visualization by calling some special functions from within the algorithm. If the visualization happens too fast or too slow - feel free to adjust the `delay` variable. "
   ]
  },
  {
   "cell_type": "code",
   "execution_count": 4,
   "id": "5259b22c",
   "metadata": {},
   "outputs": [
    {
     "data": {
      "application/vnd.jupyter.widget-view+json": {
       "model_id": "fe0c468e02bc461796f59553e6385f8e",
       "version_major": 2,
       "version_minor": 0
      },
      "text/plain": [
       "Output()"
      ]
     },
     "metadata": {},
     "output_type": "display_data"
    },
    {
     "data": {
      "text/plain": [
       "[1, 2, 3, 4, 6, 7, 13]"
      ]
     },
     "execution_count": 4,
     "metadata": {},
     "output_type": "execute_result"
    }
   ],
   "source": [
    "delay = 0.5 # in seconds\n",
    "\n",
    "def naive_sort(l):\n",
    "    v = pyv.SortVisualizer(delay=delay)\n",
    "    out = []\n",
    "    for _ in range(len(l)):\n",
    "        min_elem = 99999 # super large value\n",
    "        min_index = 0\n",
    "        for j in range(len(l)):\n",
    "            if l[j] is not None and l[j]<min_elem:\n",
    "                min_elem = l[j]\n",
    "                min_index = j\n",
    "        l[min_index] = None\n",
    "        out.append(min_elem)\n",
    "        v.visualize2(out,l,highlight_value='None')\n",
    "    return out\n",
    "                \n",
    "naive_sort([6,4,2,7,1,13,3])"
   ]
  },
  {
   "cell_type": "markdown",
   "id": "32bdfbb9",
   "metadata": {},
   "source": [
    "An important question to consider is the **complexity** of an algorithm, i.e. how many operations it has to make to sort an array. Here, we had one outer loop through the whole array, and another inner loop that again traversed the whole array to find the minimal element. Thus the number of operations is roughly $N^2$. Because we are often no so much interested in absolute number of operations, but rather in the nature of their relationship with $N$, we denote this complexity as $O(N)$. [Here is more info on Big-O notation](https://en.wikipedia.org/wiki/Big_O_notation)."
   ]
  },
  {
   "cell_type": "markdown",
   "id": "3ea1cd25",
   "metadata": {},
   "source": [
    "### Selection Sort\n",
    "\n",
    "The idea of naive sort can be further improved by keeping all the values inside the same array. Instead of marking the cells with minimal values with `None`, we can move other elements there, at the same time moving minumal elements towards the beginning of the array.\n",
    "\n",
    "The algorithm works as follows:\n",
    "\n",
    "1. Set initial boundary `i` to the first element of an array\n",
    "2. Look for minimal element from the boundary `i` to the end of the array\n",
    "3. Swap minimal element with the current element `i`\n",
    "4. Move the boundary to the next element\n",
    "5. Proceed from step 2\n",
    "\n",
    "In this process, the first `i` elements of the array are already sorted, and we move the boundary to the right until the whole array is sorted."
   ]
  },
  {
   "cell_type": "code",
   "execution_count": 5,
   "id": "e7286bc0",
   "metadata": {},
   "outputs": [
    {
     "data": {
      "application/vnd.jupyter.widget-view+json": {
       "model_id": "97b4094fa4cc4dd99513ee6d2f2fb955",
       "version_major": 2,
       "version_minor": 0
      },
      "text/plain": [
       "Output()"
      ]
     },
     "metadata": {},
     "output_type": "display_data"
    },
    {
     "data": {
      "text/plain": [
       "[1, 2, 3, 5, 6, 7, 8]"
      ]
     },
     "execution_count": 5,
     "metadata": {},
     "output_type": "execute_result"
    }
   ],
   "source": [
    "def selection_sort(l):\n",
    "    v = pyv.SortVisualizer(delay=0.5,kind='box')\n",
    "    for i in range(len(l)-1):\n",
    "        idx = i\n",
    "        for j in range(i+1,len(l)):\n",
    "            if l[j]<l[idx]:\n",
    "                idx = j\n",
    "        t = l[i]\n",
    "        l[i] = l[idx]\n",
    "        l[idx] = t\n",
    "        v.visualize(l,swap=[i,idx],boundaries=[i])\n",
    "    return l\n",
    "        \n",
    "    \n",
    "selection_sort([1,7,5,3,6,8,2])"
   ]
  },
  {
   "cell_type": "markdown",
   "id": "17091cfd",
   "metadata": {},
   "source": [
    "> **Complexity** of selection sort is $O(N^2)$, because the algorithm has two nested loops, each one depending on the length of an array. Even though number of iterations of inner loop go down from $N-1$ to $1$, it still adds up to roughly $N^2\\over2$ operations, which is twice less than with Naive sort, but still proportional to $N^2$."
   ]
  },
  {
   "cell_type": "markdown",
   "id": "1e17168e",
   "metadata": {},
   "source": [
    "## Insertion Sort\n",
    "\n",
    "Another search algorithm which is, in a way, dual to selection sort, is **insertion sort**. We take the same idea of having a moving boundary, which will separate sorted part of an array from the unsorted part, but instead of chosing the minimal element we will **insert** the next element from the array into the right position in the sorted part of the array. Since the first elements of the array (up to the boundary `i`) are sorted, this can be done by moving some elements to the right, making space to insert the new element.\n",
    "\n",
    "Algorithm goes as follows:\n",
    "\n",
    "1. Boundary `i` starts from the second element (index 1)\n",
    "2. At each step, we will be trying to insert the `i`-th element into the sorted part of the array (from 0 to `i-1`).\n",
    "3. We start moving backward from the boundary `i` to the first element, moving elements one cell to the right, and comparing current element with the one that needs to be inserted.\n",
    "4. When current element becomes smaller - we stop the process, and put the new element into the right position.\n",
    "5. Move the boundary to the right and repeat from step 2"
   ]
  },
  {
   "cell_type": "code",
   "execution_count": 6,
   "id": "0a5a70f9",
   "metadata": {},
   "outputs": [
    {
     "data": {
      "application/vnd.jupyter.widget-view+json": {
       "model_id": "725c87d1bf594249800cdd60c8444158",
       "version_major": 2,
       "version_minor": 0
      },
      "text/plain": [
       "Output()"
      ]
     },
     "metadata": {},
     "output_type": "display_data"
    },
    {
     "data": {
      "text/plain": [
       "[1, 2, 3, 5, 6, 7, 8]"
      ]
     },
     "execution_count": 6,
     "metadata": {},
     "output_type": "execute_result"
    }
   ],
   "source": [
    "def insertion_sort(l):\n",
    "    v = pyv.SortVisualizer(l,delay=0.5)\n",
    "    for i in range(1,len(l)):\n",
    "        t = l[i]\n",
    "        j = i-1 \n",
    "        while j>=0 and t<l[j]: \n",
    "            l[j+1]=l[j] \n",
    "            j-=1 \n",
    "        l[j+1] = t\n",
    "        v.visualize(l,swap=[j+1,i],boundaries=[i])\n",
    "    return l\n",
    "   \n",
    "insertion_sort([1,7,5,3,6,8,2])"
   ]
  },
  {
   "cell_type": "markdown",
   "id": "5b976b9e",
   "metadata": {},
   "source": [
    "You may also find it helpful to visualize the array in another way using bars. To do that, specify `kind='bar'` flag:"
   ]
  },
  {
   "cell_type": "code",
   "execution_count": 7,
   "id": "d26d3ff9",
   "metadata": {},
   "outputs": [
    {
     "data": {
      "application/vnd.jupyter.widget-view+json": {
       "model_id": "44ae0000317047daa4d6a1aa4fc1e84e",
       "version_major": 2,
       "version_minor": 0
      },
      "text/plain": [
       "Output()"
      ]
     },
     "metadata": {},
     "output_type": "display_data"
    },
    {
     "data": {
      "text/plain": [
       "[1, 2, 3, 5, 6, 7, 8]"
      ]
     },
     "execution_count": 7,
     "metadata": {},
     "output_type": "execute_result"
    }
   ],
   "source": [
    "def insertion_sort(l):\n",
    "    v = pyv.SortVisualizer(l,delay=delay,kind='bar')\n",
    "    for i in range(1,len(l)):\n",
    "        t = l[i]\n",
    "        j = i-1 \n",
    "        while j>=0 and t<l[j]: \n",
    "            l[j+1]=l[j] \n",
    "            j-=1 \n",
    "        l[j+1] = t\n",
    "        v.visualize(l,swap=[j+1,i],boundaries=[i])\n",
    "    return l\n",
    "   \n",
    "insertion_sort([1,7,5,3,6,8,2])"
   ]
  },
  {
   "cell_type": "markdown",
   "id": "ed11d12f",
   "metadata": {},
   "source": [
    "> **Complexity** of insertion sort is also $O(N^2)$, because the sturcture of the algorithm is very similar to selection sort - two nested loops.\n",
    "\n",
    "## Bubble Sort\n",
    "\n",
    "One of the most popular sorting algorithms for some reason is **bubble sort**. It is based on the fact that if you go over the array, swapping two consecutive elements to make them ordered, and repeat that many times - you will end up with the sorted array. "
   ]
  },
  {
   "cell_type": "code",
   "execution_count": 8,
   "id": "aa7585d2",
   "metadata": {},
   "outputs": [
    {
     "data": {
      "application/vnd.jupyter.widget-view+json": {
       "model_id": "a97dae673241419481f5d7672ea3ea01",
       "version_major": 2,
       "version_minor": 0
      },
      "text/plain": [
       "Output()"
      ]
     },
     "metadata": {},
     "output_type": "display_data"
    },
    {
     "data": {
      "text/plain": [
       "[1, 2, 3, 5, 6, 7, 8]"
      ]
     },
     "execution_count": 8,
     "metadata": {},
     "output_type": "execute_result"
    }
   ],
   "source": [
    "def bubble_sort(l):\n",
    "    v = pyv.SortVisualizer(l,delay=delay)\n",
    "    for _ in range(0,len(l)):\n",
    "        for i in range(0,len(l)-1):\n",
    "            if l[i]>l[i+1]:\n",
    "                l[i],l[i+1] = l[i+1],l[i]\n",
    "                v.visualize(l,swap=[i,i+1])\n",
    "    return l\n",
    "\n",
    "bubble_sort([1,7,5,3,6,8,2])"
   ]
  },
  {
   "cell_type": "markdown",
   "id": "fc5d6aab",
   "metadata": {},
   "source": [
    "This algirithm can be further improved. First of all, the outer loop is always executed $N$ times to make sure the array is fully sorted. However, it could happen that all elements are sorted before, and the inner loop keeps going through the array without sorting any elements. Modify the code to exit from the loop as soon as all elements are ordered (i.e. no swaps have been made during the inner loop).\n",
    "\n",
    "#### EXERCISE 1"
   ]
  },
  {
   "cell_type": "code",
   "execution_count": 9,
   "id": "692f0c01",
   "metadata": {},
   "outputs": [
    {
     "data": {
      "application/vnd.jupyter.widget-view+json": {
       "model_id": "9ff27a65ad76402bb261c4923709490a",
       "version_major": 2,
       "version_minor": 0
      },
      "text/plain": [
       "Output()"
      ]
     },
     "metadata": {},
     "output_type": "display_data"
    },
    {
     "data": {
      "text/plain": [
       "[1, 7, 5, 3, 6, 8, 2]"
      ]
     },
     "execution_count": 9,
     "metadata": {},
     "output_type": "execute_result"
    }
   ],
   "source": [
    "def bubble_sort_improved(l):\n",
    "    v = pyv.SortVisualizer(l,delay=delay)\n",
    "    # Your code here\n",
    "    # use v.visualize(l,swap=[i,i+1]) as needed to use visualization\n",
    "    return l\n",
    "\n",
    "bubble_sort_improved([1,7,5,3,6,8,2])"
   ]
  },
  {
   "cell_type": "markdown",
   "id": "e51e967b",
   "metadata": {},
   "source": [
    "Another thing you can notice is that a light (small) element goes through the array very quicky (\"bubbles us\"), while heavy (or large) element takes a long time to \"bubble down\" - hence the name *bubble sort*. You can get rid of this problem by implementing **bidirectional bubble sort**, also called [cocktail shaker sort](https://en.wikipedia.org/wiki/Cocktail_shaker_sort), where the element exchange takes place in two directions. Try to implement it yourself in\n",
    "#### EXERCISE 2"
   ]
  },
  {
   "cell_type": "code",
   "execution_count": 10,
   "id": "48c6df08",
   "metadata": {},
   "outputs": [
    {
     "data": {
      "application/vnd.jupyter.widget-view+json": {
       "model_id": "e18748b73acf4b6eb725410dd7a100e2",
       "version_major": 2,
       "version_minor": 0
      },
      "text/plain": [
       "Output()"
      ]
     },
     "metadata": {},
     "output_type": "display_data"
    },
    {
     "data": {
      "text/plain": [
       "[1, 7, 5, 3, 6, 8, 2]"
      ]
     },
     "execution_count": 10,
     "metadata": {},
     "output_type": "execute_result"
    }
   ],
   "source": [
    "def shaker_sort(l):\n",
    "    v = pyv.SortVisualizer(l,delay=delay)\n",
    "    # Your code here\n",
    "    # use v.visualize(l,swap=[i,i+1]) as needed to use visualization\n",
    "    return l\n",
    "\n",
    "shaker_sort([1,7,5,3,6,8,2])"
   ]
  },
  {
   "cell_type": "markdown",
   "id": "52007d82",
   "metadata": {},
   "source": [
    "## Why Many Algorithms\n",
    "\n",
    "You may wonder - why do we need many sorting algorithms? The truth is that some algorithms are better suited than the others for some particular cases, for example, enhanced version of bubble sort can very quicky sort an array which has just a few elements out of order, while it will take a long time for it to sort an array in reverse order. Sometimes it makes sense to select the right algorithm for your particular problem.\n",
    "\n",
    "To compare how long it takes for each algorithm to execute (including two algorithms that you have hopefully created above), we can designed a special function `time_execution_table`. Each cell of the table displays the average execution time (in seconds) for a function, averaged over 5 execution attempts. We call function on a small (15 elements) and large (1000 elements) arrays, in random, sorted and reverse sorted order.\n",
    "\n",
    "> **Note**: This function can take some time to execute, because it calls sorting function more than 100 times behind the scene!"
   ]
  },
  {
   "cell_type": "code",
   "execution_count": 14,
   "id": "81a7047e",
   "metadata": {},
   "outputs": [
    {
     "data": {
      "application/vnd.jupyter.widget-view+json": {
       "model_id": "b2d066b6c0e0486f91adf9dc7b5bd8b4",
       "version_major": 2,
       "version_minor": 0
      },
      "text/plain": [
       "HTML(value='<table border=\"2\" cellpadding=\"3\"><tr><td></td><td><b>Short</b></td><td><b>Short Sorted</b></td><t…"
      ]
     },
     "metadata": {},
     "output_type": "display_data"
    }
   ],
   "source": [
    "import random\n",
    "short = [random.randint(1,100) for _ in range(15)]\n",
    "long = [random.randint(1,100) for _ in range(1000)]\n",
    "short_sorted = sorted(short)\n",
    "long_sorted = sorted(long)\n",
    "short_back = sorted(short,reverse=True)\n",
    "long_back = sorted(long,reverse=True)\n",
    "\n",
    "pyv.SortVisualizer.set_visualization(False)\n",
    "pyv.SortVisualizer.time_execution_table(\n",
    "    ['naive_sort','selection_sort','insertion_sort','bubble_sort','bubble_sort_improved','shaker_sort'],\n",
    "    [short,short_sorted,short_back,long,long_sorted,long_back],\n",
    "    datalabels=['Short','Short Sorted','Short Reversed','Long','Long Sorted','Long Reversed'],\n",
    "    globals=globals())"
   ]
  },
  {
   "cell_type": "code",
   "execution_count": null,
   "id": "dc6bd8c8",
   "metadata": {},
   "outputs": [],
   "source": []
  }
 ],
 "metadata": {
  "interpreter": {
   "hash": "86193a1ab0ba47eac1c69c1756090baa3b420b3eea7d4aafab8b85f8b312f0c5"
  },
  "kernelspec": {
   "display_name": "Python 3 (ipykernel)",
   "language": "python",
   "name": "python3"
  },
  "language_info": {
   "codemirror_mode": {
    "name": "ipython",
    "version": 3
   },
   "file_extension": ".py",
   "mimetype": "text/x-python",
   "name": "python",
   "nbconvert_exporter": "python",
   "pygments_lexer": "ipython3",
   "version": "3.9.5"
  }
 },
 "nbformat": 4,
 "nbformat_minor": 5
}
